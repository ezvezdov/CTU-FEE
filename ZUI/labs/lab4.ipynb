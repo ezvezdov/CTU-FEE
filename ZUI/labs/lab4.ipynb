{
 "cells": [
  {
   "cell_type": "markdown",
   "metadata": {
    "id": "-SKf7bI1yv9Q"
   },
   "source": [
    "# Lab 4: A * algoritmus"
   ]
  },
  {
   "cell_type": "markdown",
   "metadata": {
    "id": "_aD13JEOyv9S"
   },
   "source": [
    "## Definitions"
   ]
  },
  {
   "attachments": {},
   "cell_type": "markdown",
   "metadata": {
    "id": "lrGlCV1Oyv9T"
   },
   "source": [
    "In A* algorithm, the choice of the next node $n$ to expand is the one that minimizes the function\n",
    "$$\\begin{align}\n",
    "f(n) = g(n) + h(n)\n",
    "\\end{align}$$\n",
    "\n",
    "**Admissibility**\n",
    "\n",
    "A heuristic is admissible if it never overestimates the cost to the\n",
    "goal (the heuristic is always optimistic) \n",
    "$$\\begin{align}\n",
    "h(n) ≤ h^*(n) \\ \\forall n \\in N.\n",
    "\\end{align}$$\n",
    "\n",
    "**Consistency**\n",
    "\n",
    "Consider two nodes in the search tree, $n$ and $n_0$, such that $n_0$ is reached immediately by making an action in $n$. Denote $c(n, n0)$ the cost for this action. A heuristic is consistent if \n",
    "$$\\begin{align}\n",
    "h(n) ≤ h(n_0) + c(n, n_0)\n",
    "\\end{align}$$\n",
    "holds for all the nodes of the tree."
   ]
  },
  {
   "attachments": {},
   "cell_type": "markdown",
   "metadata": {
    "id": "1YXaUdKsyv9T"
   },
   "source": [
    "## Task 1\n",
    "Every admissible heuristic is consistent. True or false?\n",
    "\n"
   ]
  },
  {
   "attachments": {},
   "cell_type": "markdown",
   "metadata": {
    "id": "I64b2r0tyv9U"
   },
   "source": [
    "## Task 2\n",
    "\n",
    "Consider a following graph, with heuristic $h(N)$ for each node $N$. \n",
    "\n",
    "<img src=\"https://i.ibb.co/5K3tZky/Graph-AStar.png\" style=\"width: 400px;\"/>\n",
    "\n",
    "Is given heuristic admissible and consistent?\n",
    "\n",
    "\n",
    "In which order and with which costs would Uniform-cost search (Dijsktra's algorithm) process nodes if it started in the initial state?\n",
    "\n",
    "\n",
    "Use A* algorithm with heuristic $h$ to find a path from initial node $S$ to the goal node $G$. How many nodes were popped from the queue and how many expansions were done?\n",
    "\n",
    "\n",
    "Is found path optimal?\n",
    "\n"
   ]
  },
  {
   "cell_type": "markdown",
   "metadata": {},
   "source": [
    "## Task 3\n",
    "\n",
    "Consider flooded area represented by rectangular grid $ X \\times Y$ and each cell is represented as $ b_{xy} $. In the area, there are people that need to be rescued and transported to a safe cell (cell $ b_{\\bullet \\bullet} $)), which is outside of the $ X \\times Y$ grid. The safe cell is accessible only from cell $ b_{00} $\n",
    "\n",
    "Each cell $ b_{xy} $ can contain $0$ to $n$ people.\n",
    "$n_{xy}$ denotes amount of people in cell $b_{xy}$.\n",
    "Rescuers have a single helicopter that can carry $m$ people. \n",
    "The starting point for the helicopter is $ b_{\\bullet \\bullet} $, and we assume that it has infinite fuel. In a single move, the helicopter can move from the current cell to any adjacent cell in 8 directions (up, down, left, right, and 4 diagonal directions) or load/offload 1 person.\n",
    "\n",
    "The goal is to find the shortest sequence of actions that transports all people to safety (all people are transported to $b_{\\bullet \\bullet} $, and the helicopter is empty).\n",
    "\n",
    "<img src=\"https://i.ibb.co/wQnMcBR/helicopter.png\" style=\"width: 400px;\"/>"
   ]
  },
  {
   "attachments": {},
   "cell_type": "markdown",
   "metadata": {
    "id": "lIFUMp1zyv9W"
   },
   "source": [
    "Decide if any of following heuristics is admissible:\n",
    "\n",
    "$h = \\sum_{i \\in X, j \\in Y} n_{ij}$\n",
    "\n",
    "\n",
    "$h = \\sum_{i \\in X, j \\in Y} \\frac{n_{ij}}{m}$\n",
    "\n",
    "\n",
    "$h = \\sum_{i \\in X, j \\in Y} sgn(n_{ij})\\cdot(i+j)$\n",
    "\n",
    "\n",
    "$h = \\sum_{i \\in X, j \\in Y} n_{ij} \\cdot(i+j)$\n",
    "\n",
    "\n",
    "$h = \\sum_{i \\in X, j \\in Y} n_{ij} \\cdot(\\max\\{i,j\\})$\n",
    "\n",
    "\n",
    "$h = \\sum_{i \\in X, j \\in Y} \\left[sgn(n_{ij})\\cdot(\\max\\{i,j\\}) + n_{ij}\\right]$\n",
    "\n"
   ]
  },
  {
   "cell_type": "markdown",
   "metadata": {
    "id": "WhDwYiSwyv9X"
   },
   "source": [
    "## Example - N Puzzle"
   ]
  },
  {
   "cell_type": "markdown",
   "metadata": {
    "id": "pLkd_rZ1yv9X"
   },
   "source": [
    "- Puzzle with N×N numbered tiles. \n",
    "- Tiles are in random order with one tile missing (in our case, the missing tile is represented by 0). \n",
    "- The goal is to place tiles in order (And zero in bottom right corner).\n",
    "- Allowed actions are sliding the tiles to empty space.\n",
    "\n",
    "\n",
    "Example of 4x4 Puzzle:\n",
    "\n",
    "<img src=\"https://upload.wikimedia.org/wikipedia/commons/f/ff/15-puzzle_magical.svg\" width=\"200\" height=\"200\"/>\n",
    "\n",
    "\n",
    "\n",
    "Implementation follows template from lecture 1, with several modifications:\n",
    "\n",
    "- State class\n",
    "    - Parent state and corresponding action are included in State object as history attribute.\n",
    "    - State has cost attribute, which corresponds the number of steps needed to reach the state from initial state.\n",
    "    - State has priority attribute that is used for priority queue.\n",
    "    - State objects can be compared based on their priorty using \"<\" operator.\n",
    "\n",
    "- Solver function\n",
    "    - Uses priority queue instead of list."
   ]
  },
  {
   "cell_type": "code",
   "execution_count": null,
   "metadata": {},
   "outputs": [],
   "source": [
    "import numpy as np\n",
    "from copy import deepcopy\n",
    "from typing import List, Tuple, Dict, Callable\n",
    "from queue import PriorityQueue\n",
    "\n",
    "Action = str\n",
    "\n",
    "class State:\n",
    "    def __init__(self, board: np.array, cost=0, priority=None, history=(None, None)) -> None:        \n",
    "        self.board = board\n",
    "        self.cost = cost\n",
    "        self.priority = priority\n",
    "        self.history = history\n",
    "        self.N = board.shape[0]\n",
    "        self.solved_board = np.roll(np.arange(self.N*self.N), -1).reshape(self.N, self.N)\n",
    "\n",
    "    def actions(self) -> List[Action]:\n",
    "        \"\"\"\n",
    "        :return: list of actions available at the current state.\n",
    "        \"\"\"\n",
    "        return [\n",
    "            \"u\",  # Swap up\n",
    "            \"d\",  # Swap down\n",
    "            \"l\",  # Swap left\n",
    "            \"r\",  # Swap right\n",
    "        ]\n",
    "\n",
    "    def apply(self, action: Action) -> None:\n",
    "        \"\"\"\n",
    "        Change current state by applying an action.\n",
    "        \"\"\"\n",
    "\n",
    "        assert action in self.actions()\n",
    "        i, j = self.blank_position()\n",
    "\n",
    "        # Swaps positions if possible.\n",
    "        b = self.board\n",
    "        if action == \"u\" and i-1 >= 0:\n",
    "            b[i][j], b[i - 1][j] = b[i - 1][j], b[i][j]\n",
    "        elif action == \"d\" and i+1 < self.N:\n",
    "            b[i][j], b[i + 1][j] = b[i + 1][j], b[i][j]\n",
    "        elif action == \"l\" and j-1 >= 0:\n",
    "            b[i][j], b[i][j - 1] = b[i][j - 1], b[i][j]\n",
    "        elif action == \"r\" and j+1 < self.N:\n",
    "            b[i][j], b[i][j + 1] = b[i][j + 1], b[i][j]\n",
    "\n",
    "    def copy(self) -> \"State\":\n",
    "        \"\"\"\n",
    "        Make a copy of the current state.\n",
    "        \"\"\"\n",
    "        return State(deepcopy(self.board), self.cost, self.priority, self.history)\n",
    "\n",
    "    def shuffle(self, steps=1000) -> None:\n",
    "        \"\"\"\n",
    "        Inplace shuffle of current state by applying random actions.\n",
    "        \"\"\"\n",
    "        for i in range(steps):\n",
    "            action = np.random.choice(self.actions())\n",
    "            self.apply(action)\n",
    "\n",
    "    def blank_position(self) -> Tuple[int, int]:\n",
    "        # Find blank position - it is denoted as 0 digit.\n",
    "        for i in range(self.N):\n",
    "            for j in range(self.N):\n",
    "                if self.board[i][j] == 0:\n",
    "                    return i, j\n",
    "        raise RuntimeError(\"Invalid board: No blank position found\")\n",
    "\n",
    "    def is_goal(self) -> bool: # True if boar is solved.\n",
    "        return (self.board == self.solved_board).all()\n",
    "\n",
    "    def __lt__(self, other) -> bool: # Overrides \"<\" operator, needed in PriorityQueue.\n",
    "        return self.priority < other.priority\n",
    "\n",
    "    def __str__(self) -> str:\n",
    "        return str(self.board)\n",
    "\n",
    "    def __eq__(self, other) -> bool:\n",
    "        return str(self) == str(other)\n",
    "\n",
    "    def __hash__(self) -> int:\n",
    "        return hash(str(self))\n",
    "\n",
    "    def __repr__(self) -> str:\n",
    "        return str(self)\n",
    "\n",
    "\n",
    "def reconstruct_path(closed: Dict[State, Tuple[Action, State]], \n",
    "                     init_state: State, \n",
    "                     last_state: State) -> List[Action]:\n",
    "    action, prev_state = closed[last_state]\n",
    "    path = [action]\n",
    "    while prev_state != init_state:\n",
    "        action, prev_state = closed[prev_state]\n",
    "        path.append(action)\n",
    "    return list(reversed(path))\n",
    "\n",
    "\n",
    "def solver(init_state: State, evaluate: Callable) -> Tuple[List[Action], int]:\n",
    "    opened = PriorityQueue()\n",
    "    closed = dict()\n",
    "    state = init_state.copy()\n",
    "    state.priority = 0\n",
    "    opened.put(state)\n",
    "\n",
    "    while not opened.empty():\n",
    "        state = opened.get()\n",
    "        action, prev_state = state.history\n",
    "        if state.is_goal():\n",
    "            closed[state] = (action, prev_state)\n",
    "            return reconstruct_path(closed, init_state, last_state=state), len(closed) \n",
    "            \n",
    "        if state in closed:  # State already visited ...\n",
    "            continue\n",
    "        else:\n",
    "            closed[state] = action, prev_state\n",
    "\n",
    "        for action in state.actions():\n",
    "            next_state = state.copy()\n",
    "            next_state.apply(action)\n",
    "            next_state.history = (action, state)\n",
    "            next_state.cost += 1\n",
    "            next_state.priority = evaluate(next_state)\n",
    "            opened.put(next_state)\n",
    "\n",
    "    return [], len(closed)"
   ]
  },
  {
   "attachments": {},
   "cell_type": "markdown",
   "metadata": {},
   "source": [
    "## Task 4 - N Puzzle heuristic\n",
    "\n",
    "- What is suitable heuristic for N Puzzle?\n",
    "\n",
    "\n",
    "- Would the heuristic still be admissible if we multiply it by $w > 1$?\n",
    "\n",
    "\n",
    "- Is it reasonable to use such a weighting $w$ of the heuristic?\n",
    "\n",
    "\n",
    "- Implement the heuristic.\n"
   ]
  },
  {
   "cell_type": "code",
   "execution_count": null,
   "metadata": {},
   "outputs": [],
   "source": [
    "class NPuzzleHeuristic():\n",
    "    # TODO: Implement this method.\n",
    "    def heuristic(self, state) -> int:\n",
    "        h = 0\n",
    "        for y in range(state.N):\n",
    "            for x in range(state.n):\n",
    "                n = state.board[y,x]\n",
    "\n",
    "                if n!= 0:\n",
    "                    expected_y, expected_x = (n - 1) // state.N, (n - 1) % state.N\n",
    "                    h += abs(x - expected_x) + abs(y - expected_y)\n",
    "        return h\n",
    "\n",
    "class BFS():\n",
    "    def __call__(self, state) -> int:\n",
    "        return state.cost\n",
    "\n",
    "class Greedy(NPuzzleHeuristic):\n",
    "    def __call__(self, state) -> int:\n",
    "        return self.heuristic(state)\n",
    "\n",
    "class AStar(NPuzzleHeuristic):\n",
    "    def __init__(self, weight=1.0) -> None:\n",
    "        self.weight = weight\n",
    "\n",
    "    def __call__(self, state) -> int:\n",
    "        return state.cost + self.weight * self.heuristic(state)    "
   ]
  },
  {
   "cell_type": "markdown",
   "metadata": {},
   "source": [
    "## Examples\n",
    "- Compare the performance of uninformed search, greedy best first, A* and its weighted variants."
   ]
  },
  {
   "cell_type": "code",
   "execution_count": null,
   "metadata": {},
   "outputs": [],
   "source": [
    "# Create new initial state (for N>3 BFS is not feasible).\n",
    "N = 3\n",
    "state = State(np.roll(np.arange(N*N), -1).reshape(N,N))\n",
    "state.shuffle(1000)\n",
    "\n",
    "# Or, use this one\n",
    "state = State(np.array([[8, 4, 6],[1, 3, 7], [5, 2, 0]]))\n",
    "\n",
    "display(state)"
   ]
  },
  {
   "cell_type": "code",
   "execution_count": null,
   "metadata": {},
   "outputs": [],
   "source": [
    "path, expanded = solver(state, BFS())\n",
    "print(f\"Uninformed search\")\n",
    "print(f\"Solution steps: \\t{len(path)}\")\n",
    "print(f\"Nodes expanded:    \\t{expanded}\")"
   ]
  },
  {
   "cell_type": "code",
   "execution_count": null,
   "metadata": {},
   "outputs": [],
   "source": [
    "path, expanded = solver(state, Greedy())\n",
    "print(f\"Greedy best first\")\n",
    "print(f\"Solution steps: \\t{len(path)}\")\n",
    "print(f\"Nodes expanded:    \\t{expanded}\")"
   ]
  },
  {
   "cell_type": "code",
   "execution_count": null,
   "metadata": {},
   "outputs": [],
   "source": [
    "path, expanded = solver(state.copy(), AStar())\n",
    "print(f\"A*\")\n",
    "print(f\"Solution steps: \\t{len(path)}\")\n",
    "print(f\"Nodes expanded:    \\t{expanded}\")"
   ]
  },
  {
   "cell_type": "code",
   "execution_count": null,
   "metadata": {},
   "outputs": [],
   "source": [
    "path, expanded = solver(state.copy(), AStar(weight=2.0))\n",
    "print(f\"Weighted A* (2x Admissible heuristic)\")\n",
    "print(f\"Solution steps: \\t{len(path)}\")\n",
    "print(f\"Nodes expanded:    \\t{expanded}\")"
   ]
  },
  {
   "cell_type": "code",
   "execution_count": null,
   "metadata": {},
   "outputs": [],
   "source": [
    "path, expanded = solver(state.copy(), AStar(weight=5.0))\n",
    "print(f\"Weighted A* (5x Admissible heuristic)\")\n",
    "print(f\"Solution steps: \\t{len(path)}\")\n",
    "print(f\"Nodes expanded:    \\t{expanded}\")"
   ]
  },
  {
   "cell_type": "code",
   "execution_count": null,
   "metadata": {},
   "outputs": [],
   "source": []
  }
 ],
 "metadata": {
  "colab": {
   "collapsed_sections": [],
   "name": "lab4-teachers.ipynb",
   "provenance": [],
   "toc_visible": true
  },
  "kernelspec": {
   "display_name": "VENV_DIR",
   "language": "python",
   "name": "python3"
  },
  "language_info": {
   "codemirror_mode": {
    "name": "ipython",
    "version": 3
   },
   "file_extension": ".py",
   "mimetype": "text/x-python",
   "name": "python",
   "nbconvert_exporter": "python",
   "pygments_lexer": "ipython3",
   "version": "3.10.10"
  },
  "vscode": {
   "interpreter": {
    "hash": "28faef28e7f0745a706c61265858622dc1f2f4e731abb5496d55c478fc6bd5d9"
   }
  }
 },
 "nbformat": 4,
 "nbformat_minor": 1
}
