{
 "cells": [
  {
   "cell_type": "code",
   "execution_count": 1,
   "metadata": {},
   "outputs": [],
   "source": [
    "import torch"
   ]
  },
  {
   "cell_type": "markdown",
   "metadata": {},
   "source": [
    "# Task 1\n",
    "You are fiven the following neural network model paremetrized by weight vector $\\mathbf{w}$ and bias $b$. Model takes as an input vector $\\mathbf{x}$ and outputs a scalar $y$.\n",
    "$$\n",
    "y = \\sin{(\\mathbf{w}^T\\mathbf{x})} - b,\n",
    "$$\n",
    "where:\n",
    "$$\n",
    "\\mathbf{x} = \\begin{bmatrix} 2 & 1 \\end{bmatrix}, \\mathbf{w} = \\begin{bmatrix} \\frac{\\pi}{2} & \\pi \\end{bmatrix}, b = 1, \\hat{y} = 2.\n",
    "$$\n",
    "\n",
    "- 1) Draw a computational graph of forward pass of this small neural network\n",
    "- 2) Compute feedforward pass with initial weights $\\mathbf{w}$ and input data feature vector $\\mathbf{x}$\n",
    "- 3) Calculate gradients of output y with respect to weights $\\mathbf{w}$, i.e. $\\frac{\\partial y}{\\partial \\mathbf{w}}$\n",
    "- 4) Use $\\text{L}_{2}$ loss (Mean square error) to compute loss value between forward prediction $y$ and label $\\hat{y}$. Add loss into computational graph.\n",
    "- 5) Use chain rule to compute the gradient $\\frac{\\partial\\mathcal{L}}{\\partial\\mathbf{w}}$ and update weights with learning rate parameter $\\alpha = 0.5$\n",
    "\n",
    "Do all these computations first with pen and paper and then implement them in python code."
   ]
  },
  {
   "cell_type": "code",
   "execution_count": 10,
   "metadata": {},
   "outputs": [],
   "source": [
    "def task1():\n",
    "    ### Define initial parameters\n",
    "    x = torch.tensor([2,1],dtype=torch.float32)\n",
    "    w = torch.tensor([torch.pi/2, torch.pi],dtype=torch.float32,requires_grad=True)\n",
    "    b = 1\n",
    "    y_label = 2\n",
    "    \n",
    "    \"\"\" Note: Think about dimensions of initial parameters and order of operations \"\"\"\n",
    "    \n",
    "    # model forward pass y = sin(w.T @ x) - b        ---> dot product @\n",
    "    y = torch.sin(w.T @ x) - b\n",
    "    \n",
    "    # calculate loss and make backward pass\n",
    "    L2 = (y_label - y)**2\n",
    "    \n",
    "    \"\"\" Note: Beware of backward passes when calculating it for both y and L. You need to do it separately \"\"\"\n",
    "    \n",
    "    # Update weights with learning rate alpha\n",
    "    alpha = 0.5\n",
    "    L2.backward()\n",
    "    with torch.inference_mode():\n",
    "        w -= alpha * w.grad\n",
    "\n",
    "    print(f\"2): Feed-forward pass result is : {y.data}\")\n",
    "    print(f\"3): Weight gradients are : {w.grad}\")\n",
    "    print(f\"4): L2 loss result is : {L2.data}\")\n",
    "    print(f\"5): Updated weights are : {w.data}\")"
   ]
  },
  {
   "cell_type": "code",
   "execution_count": 11,
   "metadata": {},
   "outputs": [
    {
     "name": "stdout",
     "output_type": "stream",
     "text": [
      "2): Feed-forward pass result is : -0.9999998211860657\n",
      "3): Weight gradients are : tensor([-12.0000,  -6.0000])\n",
      "4): L2 loss result is : 8.999999046325684\n",
      "5): Updated weights are : tensor([7.5708, 6.1416])\n"
     ]
    }
   ],
   "source": [
    "task1()"
   ]
  },
  {
   "cell_type": "markdown",
   "metadata": {},
   "source": [
    "# Task 2\n",
    "You are given input feature map $\\mathbf{X}$ and convolutional kernel $\\mathbf{w}$:\n",
    "$$\n",
    "\\mathbf{x} = \\begin{bmatrix} 1 & 0 & 2 \\\\ 2 & 1 & -1 \\\\ 0 & 0 & 2 \\end{bmatrix}, \\mathbf{w} = \\begin{bmatrix} 1 & -1 \\\\ 0 & 2 \\end{bmatrix}.\n",
    "$$\n",
    "Stride denotes length of convolutional stride, padding denotes symetric zero-padding.\n",
    "\n",
    "Compute outputs of following layers:\n",
    "- 1) $\\text{conv}(\\mathbf{x}, \\mathbf{w}, \\text{stride}=1, \\text{padding}=0)$\n",
    "- 2) $\\text{conv}(\\mathbf{x}, \\mathbf{w}, \\text{stride}=3, \\text{padding}=1)$\n",
    "- 3) $\\text{max}(\\mathbf{x}, 2\\times2)$\n",
    "\n",
    "Do all these computations first with pen and paper and then implement them in python code."
   ]
  },
  {
   "cell_type": "code",
   "execution_count": 18,
   "metadata": {},
   "outputs": [],
   "source": [
    "def task2():\n",
    "    x = torch.tensor([[1,0,2],[2,1,-1],[0,0,2]], dtype=torch.float32)\n",
    "    w = torch.tensor([[1,-1],[0,2]],dtype=torch.float32)\n",
    "\n",
    "    conv1 = torch.nn.Conv2d(1,1,2,bias=False)\n",
    "    conv1.weight = torch.nn.Parameter(w.unsqueeze(0).unsqueeze(0))\n",
    "    y = conv1(x.unsqueeze(0).unsqueeze(0))\n",
    "\n",
    "    conv2 = torch.nn.Conv2d(1,1,2,3,1,bias=False)\n",
    "    conv2.weight = torch.nn.Parameter(w.unsqueeze(0).unsqueeze(0))\n",
    "    y2 = conv2(x.unsqueeze(0).unsqueeze(0))\n",
    "\n",
    "    max1 = torch.nn.MaxPool2d(2,1)\n",
    "    y3 = max1(x.unsqueeze(0).unsqueeze(0))\n",
    "\n",
    "    print(f\"1): Convolution result is : {y.data}\")\n",
    "    print(f\"2): Convolution result is : {y2.data}\")\n",
    "    print(f\"3): MaxPool result is : {y3.data}\")"
   ]
  },
  {
   "cell_type": "code",
   "execution_count": 19,
   "metadata": {},
   "outputs": [
    {
     "name": "stdout",
     "output_type": "stream",
     "text": [
      "1): Convolution result is : tensor([[[[ 3., -4.],\n",
      "          [ 1.,  6.]]]])\n",
      "2): Convolution result is : tensor([[[[2., 0.],\n",
      "          [0., 2.]]]])\n",
      "3): MaxPool result is : tensor([[[[2., 2.],\n",
      "          [2., 2.]]]])\n"
     ]
    }
   ],
   "source": [
    "task2()"
   ]
  },
  {
   "cell_type": "markdown",
   "metadata": {},
   "source": [
    "You are given a simple network model, which consists of one convolutional layer and one maxpool layer. Structure is defined as follows: \n",
    "$$\n",
    "f(\\mathbf{x}, \\mathbf{w}) = \\text{max}(\\text{conv}(\\mathbf{x}, \\mathbf{w}, \\text{stride}=1, \\text{padding}=0), 1\\times2),\n",
    "$$\n",
    "where:\n",
    "$$\n",
    "\\mathbf{x} = \\begin{bmatrix} 2 & 1 & 2 \\end{bmatrix}, \\mathbf{w} = \\begin{bmatrix} 1 & 0 \\end{bmatrix}.\n",
    "$$\n",
    "$\\mathbf{x}$ is an input feature map, $\\mathbf{w}$ is a convolutional kernel.\n",
    "\n",
    "- 1) Draw a computational graph and ocmpute the forward pass of this small neural network\n",
    "- 2) Compute gradients of output with respect to weights $\\mathbf{w}$, i.e. $\\frac{\\partial f(\\mathbf{x}, \\mathbf{w})}{\\partial \\mathbf{w}}$\n",
    "- 3) Update weights with learning rate parameter $\\alpha = 0.5$\n",
    "\n",
    "Do all these computations first with pen and paper and then implement them in python code."
   ]
  },
  {
   "cell_type": "code",
   "execution_count": 20,
   "metadata": {},
   "outputs": [],
   "source": [
    "def task3():\n",
    "    x = torch.tensor([2,1,2], dtype=torch.float32)\n",
    "    w = torch.tensor([1,0], dtype=torch.float32)\n",
    "\n",
    "    conv1 = torch.nn.Conv1d(1,1,2, bias=False)\n",
    "    conv1.weight = torch.nn.Parameter(w.unsqueeze(0).unsqueeze(0))\n",
    "    max1 = torch.nn.MaxPool1d(2,1)\n",
    "    y = max1(conv1(x.unsqueeze(0).unsqueeze(0)))\n",
    "\n",
    "    optimizer = torch.optim.SGD(conv1.parameters(),lr=0.5)\n",
    "    y.backward()\n",
    "\n",
    "    print(f\"1): Convolution result is : {y.data}\")\n",
    "    print(f\"2): Weight gradients are : {conv1.weight.grad}\")\n",
    "    print(f\"3): Updated weights are : {conv1.weight.data}\")"
   ]
  },
  {
   "cell_type": "code",
   "execution_count": 21,
   "metadata": {},
   "outputs": [
    {
     "name": "stdout",
     "output_type": "stream",
     "text": [
      "1): Convolution result is : tensor([[[2.]]])\n",
      "2): Weight gradients are : tensor([[[2., 1.]]])\n",
      "3): Updated weights are : tensor([[[1., 0.]]])\n"
     ]
    }
   ],
   "source": [
    "task3()"
   ]
  }
 ],
 "metadata": {
  "kernelspec": {
   "display_name": "Python 3",
   "language": "python",
   "name": "python3"
  },
  "language_info": {
   "codemirror_mode": {
    "name": "ipython",
    "version": 3
   },
   "file_extension": ".py",
   "mimetype": "text/x-python",
   "name": "python",
   "nbconvert_exporter": "python",
   "pygments_lexer": "ipython3",
   "version": "3.11.5"
  }
 },
 "nbformat": 4,
 "nbformat_minor": 2
}
