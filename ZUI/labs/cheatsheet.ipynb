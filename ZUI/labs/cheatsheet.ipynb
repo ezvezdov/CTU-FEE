{
 "cells": [
  {
   "cell_type": "markdown",
   "id": "03ebafd8",
   "metadata": {
    "pycharm": {
     "name": "#%% md\n"
    }
   },
   "source": [
    "## Python: some useful things to know\n",
    "\n",
    "You are strongly encouraged to learn Python on your own if you are not familiar with the language -- we have only limited time to spend on the language basics. \n",
    "\n",
    "We use Python >= 3.8, some of the features might not be available in prior versions (definitely not python 2)\n",
    "\n",
    "There is a number of materials to learn Python online, for example:\n",
    "\n",
    "- https://www.programiz.com/python-programming/tutorial -- a short tutorial\n",
    "- https://docs.python.org/3/tutorial/index.html#tutorial-index -- official tutorial\n",
    "- https://docs.python.org/3/library/index.html#library-index -- more extensive library documentation.\n",
    "\n",
    "Following ere are some useful constructs that you will use a lot in the course.\n"
   ]
  },
  {
   "cell_type": "markdown",
   "id": "ac78795a",
   "metadata": {
    "pycharm": {
     "name": "#%% md\n"
    }
   },
   "source": [
    "Try to predict what is the output of each command before you run it!"
   ]
  },
  {
   "cell_type": "markdown",
   "id": "da29acd8",
   "metadata": {
    "pycharm": {
     "name": "#%% md\n"
    }
   },
   "source": [
    "### Lists"
   ]
  },
  {
   "cell_type": "code",
   "execution_count": 1,
   "id": "c299dc82",
   "metadata": {
    "pycharm": {
     "name": "#%%\n"
    }
   },
   "outputs": [
    {
     "name": "stdout",
     "output_type": "stream",
     "text": [
      "0\n"
     ]
    }
   ],
   "source": [
    "my_list = [0, 1, 2, 3, 4, 5]\n",
    "print(my_list[0])   # Index from the start of array"
   ]
  },
  {
   "cell_type": "code",
   "execution_count": 2,
   "id": "fb7036bb",
   "metadata": {
    "pycharm": {
     "name": "#%%\n"
    }
   },
   "outputs": [
    {
     "name": "stdout",
     "output_type": "stream",
     "text": [
      "5\n"
     ]
    }
   ],
   "source": [
    "print(my_list[-1])  # Index from the end of array"
   ]
  },
  {
   "cell_type": "code",
   "execution_count": 3,
   "id": "f2dab1a4",
   "metadata": {
    "pycharm": {
     "name": "#%%\n"
    }
   },
   "outputs": [
    {
     "name": "stdout",
     "output_type": "stream",
     "text": [
      "[3, 4, 5]\n"
     ]
    }
   ],
   "source": [
    "print(my_list[3:])   # Slice"
   ]
  },
  {
   "cell_type": "code",
   "execution_count": null,
   "id": "c5be75c7",
   "metadata": {
    "pycharm": {
     "name": "#%%\n"
    }
   },
   "outputs": [],
   "source": [
    "print(my_list[:3])   # Slice"
   ]
  },
  {
   "cell_type": "code",
   "execution_count": 4,
   "id": "98041e05",
   "metadata": {
    "pycharm": {
     "name": "#%%\n"
    }
   },
   "outputs": [
    {
     "name": "stdout",
     "output_type": "stream",
     "text": [
      "[0, 2, 4]\n"
     ]
    }
   ],
   "source": [
    "print(my_list[::2])  # Slice"
   ]
  },
  {
   "cell_type": "code",
   "execution_count": null,
   "id": "c8ff723f",
   "metadata": {
    "pycharm": {
     "name": "#%%\n"
    }
   },
   "outputs": [],
   "source": [
    "my_list.append(6)\n",
    "print(my_list)"
   ]
  },
  {
   "cell_type": "code",
   "execution_count": null,
   "id": "63c13b86",
   "metadata": {
    "pycharm": {
     "name": "#%%\n"
    }
   },
   "outputs": [],
   "source": [
    "another_list = [7, 8, 9]\n",
    "concat = my_list + another_list\n",
    "print(concat)"
   ]
  },
  {
   "cell_type": "code",
   "execution_count": null,
   "id": "5ba57617",
   "metadata": {
    "pycharm": {
     "name": "#%%\n"
    }
   },
   "outputs": [],
   "source": [
    "print(concat.pop())\n",
    "print(concat)"
   ]
  },
  {
   "cell_type": "code",
   "execution_count": null,
   "id": "066cb4ee",
   "metadata": {
    "pycharm": {
     "name": "#%%\n"
    }
   },
   "outputs": [],
   "source": [
    "print(len(concat))"
   ]
  },
  {
   "cell_type": "code",
   "execution_count": null,
   "id": "0b0008a5",
   "metadata": {
    "pycharm": {
     "name": "#%%\n"
    }
   },
   "outputs": [],
   "source": [
    "print(min(concat))\n",
    "print(max(concat))"
   ]
  },
  {
   "cell_type": "code",
   "execution_count": null,
   "id": "359fa103",
   "metadata": {
    "pycharm": {
     "name": "#%%\n"
    }
   },
   "outputs": [],
   "source": [
    "print(2 in concat)\n",
    "print(10 in concat)"
   ]
  },
  {
   "cell_type": "code",
   "execution_count": null,
   "id": "2a838b2d",
   "metadata": {
    "pycharm": {
     "name": "#%%\n"
    }
   },
   "outputs": [],
   "source": [
    "a = 10\n",
    "b = a\n",
    "b = 20\n",
    "print(a)\n",
    "print(b)"
   ]
  },
  {
   "cell_type": "code",
   "execution_count": null,
   "id": "8baa7513",
   "metadata": {
    "pycharm": {
     "name": "#%%\n"
    }
   },
   "outputs": [],
   "source": [
    "xs = [1, 2, 3]\n",
    "ys = xs\n",
    "ys[0] = 5\n",
    "print(xs)\n",
    "print(ys)\n",
    "\n"
   ]
  },
  {
   "cell_type": "code",
   "execution_count": null,
   "id": "20ff6045",
   "metadata": {
    "pycharm": {
     "name": "#%%\n"
    }
   },
   "outputs": [],
   "source": [
    "def append_new(my_list=[]):\n",
    "    my_list.append(1)\n",
    "    return my_list\n",
    "\n",
    "\n",
    "print(append_new())\n",
    "print(append_new())\n"
   ]
  },
  {
   "cell_type": "markdown",
   "id": "2ec58019",
   "metadata": {
    "pycharm": {
     "name": "#%% md\n"
    }
   },
   "source": [
    "### Tuples"
   ]
  },
  {
   "cell_type": "code",
   "execution_count": null,
   "id": "e51958e4",
   "metadata": {
    "pycharm": {
     "name": "#%%\n"
    }
   },
   "outputs": [],
   "source": [
    "xs = (\"a\", 1, True)\n",
    "print(xs[2])"
   ]
  },
  {
   "cell_type": "code",
   "execution_count": null,
   "id": "51f028a8",
   "metadata": {
    "pycharm": {
     "name": "#%%\n"
    }
   },
   "outputs": [],
   "source": [
    "x,y,z = xs\n",
    "print(y)"
   ]
  },
  {
   "cell_type": "code",
   "execution_count": null,
   "id": "c662a854",
   "metadata": {
    "pycharm": {
     "name": "#%%\n"
    }
   },
   "outputs": [],
   "source": [
    "a, b = 1, 2\n",
    "a, b = b, a\n",
    "print(a, b)"
   ]
  },
  {
   "cell_type": "markdown",
   "id": "3630df93",
   "metadata": {
    "pycharm": {
     "name": "#%% md\n"
    }
   },
   "source": [
    "### Dictionaries"
   ]
  },
  {
   "cell_type": "code",
   "execution_count": null,
   "id": "6b621c23",
   "metadata": {
    "pycharm": {
     "name": "#%%\n"
    }
   },
   "outputs": [],
   "source": [
    "my_dict = dict(a=0, b=1, c=2)\n",
    "# OR\n",
    "# my_dict = {\"a\":0, \"b\":1, \"c\":2}\n",
    "print(my_dict[\"a\"])\n",
    "my_dict[\"d\"] = 3"
   ]
  },
  {
   "cell_type": "code",
   "execution_count": null,
   "id": "a8a07794",
   "metadata": {
    "pycharm": {
     "name": "#%%\n"
    }
   },
   "outputs": [],
   "source": [
    "another_dict = dict(e=4)\n",
    "my_dict.update(another_dict)\n",
    "print(my_dict)"
   ]
  },
  {
   "cell_type": "code",
   "execution_count": null,
   "id": "dcce13ce",
   "metadata": {
    "pycharm": {
     "name": "#%%\n"
    }
   },
   "outputs": [],
   "source": [
    "print(\"e\" in my_dict)\n",
    "print(\"f\" in my_dict)\n",
    "print(0 in my_dict)"
   ]
  },
  {
   "cell_type": "markdown",
   "id": "07cdf700",
   "metadata": {
    "pycharm": {
     "name": "#%% md\n"
    }
   },
   "source": [
    "### Sets"
   ]
  },
  {
   "cell_type": "code",
   "execution_count": null,
   "id": "f68f2956",
   "metadata": {
    "pycharm": {
     "name": "#%%\n"
    }
   },
   "outputs": [],
   "source": [
    "my_set = set([1, 2, 3])\n",
    "# OR\n",
    "# my_set = {1, 2, 3}\n",
    "print(len(my_set))"
   ]
  },
  {
   "cell_type": "code",
   "execution_count": null,
   "id": "9b6de0d0",
   "metadata": {
    "pycharm": {
     "name": "#%%\n"
    }
   },
   "outputs": [],
   "source": [
    "print({1,2,3}.union({3,4,5}))"
   ]
  },
  {
   "cell_type": "code",
   "execution_count": null,
   "id": "feeb492f",
   "metadata": {
    "pycharm": {
     "name": "#%%\n"
    }
   },
   "outputs": [],
   "source": [
    "print({1,2,3}.intersection({3,4,5}))"
   ]
  },
  {
   "cell_type": "markdown",
   "id": "5c7c171a",
   "metadata": {
    "pycharm": {
     "name": "#%% md\n"
    }
   },
   "source": [
    "### Loops\n",
    "\n",
    "Easy way to construct arrays/sets/dictionaries based on filtering etc."
   ]
  },
  {
   "cell_type": "code",
   "execution_count": null,
   "id": "97318eb1",
   "metadata": {
    "pycharm": {
     "name": "#%%\n"
    }
   },
   "outputs": [],
   "source": [
    "for x in range(5):\n",
    "    print(x)"
   ]
  },
  {
   "cell_type": "code",
   "execution_count": null,
   "id": "b009f56e",
   "metadata": {
    "pycharm": {
     "name": "#%%\n"
    }
   },
   "outputs": [],
   "source": [
    "for x in [\"a\", \"b\", \"c\"]:\n",
    "    print(x)"
   ]
  },
  {
   "cell_type": "code",
   "execution_count": null,
   "id": "d6e39754",
   "metadata": {
    "pycharm": {
     "name": "#%%\n"
    }
   },
   "outputs": [],
   "source": [
    "for i, x in enumerate([\"a\",\"b\",\"c\"]):\n",
    "    print(i, x)"
   ]
  },
  {
   "cell_type": "code",
   "execution_count": null,
   "id": "53db270b",
   "metadata": {
    "pycharm": {
     "name": "#%%\n"
    }
   },
   "outputs": [],
   "source": [
    "my_dict = dict(a=0, b=1, c=2)\n",
    "# OR my_dict = {\"a\":0, \"b\":1, \"c\":2}\n",
    "for v in my_dict:\n",
    "    print(v)"
   ]
  },
  {
   "cell_type": "code",
   "execution_count": null,
   "id": "e9f52ede",
   "metadata": {
    "pycharm": {
     "name": "#%%\n"
    }
   },
   "outputs": [],
   "source": [
    "for k, v in my_dict.items():\n",
    "    print(k, v)"
   ]
  },
  {
   "cell_type": "code",
   "execution_count": null,
   "id": "670126e0",
   "metadata": {
    "pycharm": {
     "name": "#%%\n"
    }
   },
   "outputs": [],
   "source": [
    "list_of_tuples = [(\"a\", 1, True), (\"b\", 2, False), (\"c\", 3, True)]\n",
    "for a, b, c in list_of_tuples:\n",
    "    print(a, b ** 2, not c)"
   ]
  },
  {
   "cell_type": "code",
   "execution_count": null,
   "id": "c406c3c7",
   "metadata": {
    "pycharm": {
     "name": "#%%\n"
    }
   },
   "outputs": [],
   "source": [
    "my_list = [x ** 2 for x in range(5)]\n",
    "print(my_list)"
   ]
  },
  {
   "cell_type": "code",
   "execution_count": null,
   "id": "ed8f1952",
   "metadata": {
    "pycharm": {
     "name": "#%%\n"
    }
   },
   "outputs": [],
   "source": [
    "my_set = {x for x in range(5) if x > 2}\n",
    "print(my_set)"
   ]
  },
  {
   "cell_type": "code",
   "execution_count": null,
   "id": "9578d142",
   "metadata": {
    "pycharm": {
     "name": "#%%\n"
    }
   },
   "outputs": [],
   "source": [
    "for i, j in zip([\"a\", \"b\", \"c\"], [1, 2, 3]):\n",
    "    print(i, j)"
   ]
  },
  {
   "cell_type": "code",
   "execution_count": null,
   "id": "c4f19a65",
   "metadata": {
    "pycharm": {
     "name": "#%%\n"
    }
   },
   "outputs": [],
   "source": [
    "zipped = [(\"a\",1), (\"b\",2), (\"c\",3)]\n",
    "print(*zipped)\n",
    "unzipped = list(zip(*zipped))\n",
    "print(unzipped)"
   ]
  },
  {
   "cell_type": "code",
   "execution_count": null,
   "id": "4c327fab",
   "metadata": {
    "pycharm": {
     "name": "#%%\n"
    }
   },
   "outputs": [],
   "source": [
    "for x in \"ař日й\":  # A string is a list of utf-8 chars\n",
    "    print(x)"
   ]
  },
  {
   "cell_type": "markdown",
   "id": "ccd1a21b",
   "metadata": {},
   "source": [
    "### Generators, itertools"
   ]
  },
  {
   "cell_type": "markdown",
   "id": "7ce10de4",
   "metadata": {},
   "source": [
    "**Generator** functions allow you to declare a function that behaves like an iterator, i.e. it can be used in a for loop. However they do not need to allocate all of the memory upfront -- they can be used in a similar way as lazy evaluation in Haskell."
   ]
  },
  {
   "cell_type": "code",
   "execution_count": null,
   "id": "a8f62a68",
   "metadata": {
    "pycharm": {
     "name": "#%%\n"
    }
   },
   "outputs": [],
   "source": [
    "def my_range(n):\n",
    "    i = 0\n",
    "    while i < n:\n",
    "        yield i\n",
    "        i += 1\n",
    "\n",
    "\n",
    "print(my_range(5))\n"
   ]
  },
  {
   "cell_type": "code",
   "execution_count": null,
   "id": "2f8fe327",
   "metadata": {
    "pycharm": {
     "name": "#%%\n"
    }
   },
   "outputs": [],
   "source": [
    "for i in my_range(5):\n",
    "    print(i)"
   ]
  },
  {
   "cell_type": "code",
   "execution_count": null,
   "id": "e4511d6b",
   "metadata": {},
   "outputs": [],
   "source": [
    "print(list(my_range(5)))"
   ]
  },
  {
   "cell_type": "markdown",
   "id": "079bcab2",
   "metadata": {},
   "source": [
    "**Itertools** implement a number of iterator building blocks inspired by constructs from APL, Haskell, and SML. Each has been recast in a form suitable for Python.\n",
    "\n",
    "https://docs.python.org/3/library/itertools.html"
   ]
  },
  {
   "cell_type": "code",
   "execution_count": null,
   "id": "bfe15b7b",
   "metadata": {},
   "outputs": [],
   "source": [
    "import itertools"
   ]
  },
  {
   "cell_type": "code",
   "execution_count": null,
   "id": "e3b583f7",
   "metadata": {
    "pycharm": {
     "is_executing": true,
     "name": "#%%\n"
    }
   },
   "outputs": [],
   "source": [
    "for i in itertools.chain(my_range(5), my_range(5)):\n",
    "    print(i)"
   ]
  },
  {
   "cell_type": "code",
   "execution_count": null,
   "id": "5018274b",
   "metadata": {
    "pycharm": {
     "name": "#%%\n"
    }
   },
   "outputs": [],
   "source": [
    "vocabulary = [\"animal\", \"boy\", \"beard\", \"arm\", \"clock\", \"ceiling\", \"clean\", \"bribe\"]\n",
    "vocabulary = sorted(vocabulary)\n",
    "\n",
    "for key, group in itertools.groupby(vocabulary, lambda x: x[0]):\n",
    "    key_and_group = {key: list(group)}\n",
    "    print(key_and_group)"
   ]
  },
  {
   "cell_type": "code",
   "execution_count": null,
   "id": "0fcb1887",
   "metadata": {
    "pycharm": {
     "name": "#%%\n"
    }
   },
   "outputs": [],
   "source": [
    "for x in itertools.combinations(\"ABCD\", 2):\n",
    "    print(x)"
   ]
  },
  {
   "cell_type": "code",
   "execution_count": null,
   "id": "86ee5fc9",
   "metadata": {
    "pycharm": {
     "name": "#%%\n"
    }
   },
   "outputs": [],
   "source": [
    "for x in itertools.product(\"ABC\", \"XYZ\"):\n",
    "    print(x)"
   ]
  },
  {
   "cell_type": "code",
   "execution_count": null,
   "id": "a7d5bac7",
   "metadata": {
    "pycharm": {
     "name": "#%%\n"
    }
   },
   "outputs": [],
   "source": [
    "for p in itertools.permutations(\"123\"):\n",
    "    print(p)"
   ]
  },
  {
   "cell_type": "markdown",
   "id": "4b08a448",
   "metadata": {
    "pycharm": {
     "name": "#%% md\n"
    }
   },
   "source": [
    "See more examples at https://docs.python.org/3/library/itertools.html\n",
    "\n",
    "Some other collections might be useful: https://docs.python.org/3/library/collections.html\n",
    "\n",
    "- OrderedDict: a dict subclass that remembers the order entries were added\n",
    "- namedtuple(): a factory function for creating tuple subclasses with named fields\n",
    "- defaultdict: a dict subclass that calls a factory function to supply missing values\n",
    "- Counter: a dict subclass for counting hashable objects\n",
    "- deque: a list-like container with fast appends and pops on either end"
   ]
  },
  {
   "cell_type": "markdown",
   "id": "ee31e5d8",
   "metadata": {
    "pycharm": {
     "name": "#%% md\n"
    }
   },
   "source": [
    "### Numpy\n",
    "\n",
    "NumPy is the fundamental package for scientific computing in Python. It is a Python library that provides a multidimensional array object, various derived objects (such as masked arrays and matrices), and an assortment of routines for fast operations on arrays, including mathematical, logical, shape manipulation, sorting, selecting, I/O, discrete Fourier transforms, basic linear algebra, basic statistical operations, random simulation and much more.\n",
    "\n",
    "Numpy resources (very much recommended to learn the API!):\n",
    "\n",
    "- cheatsheet: https://s3.amazonaws.com/assets.datacamp.com/blog_assets/Numpy_Python_Cheat_Sheet.pdf\n",
    "- documentation https://numpy.org/doc/1.22/user/whatisnumpy.html"
   ]
  },
  {
   "cell_type": "code",
   "execution_count": 5,
   "id": "76b1ceb5",
   "metadata": {
    "pycharm": {
     "name": "#%%\n"
    }
   },
   "outputs": [
    {
     "name": "stdout",
     "output_type": "stream",
     "text": [
      "[[1 2 3]\n",
      " [4 5 6]]\n"
     ]
    }
   ],
   "source": [
    "import numpy as np\n",
    "\n",
    "x = np.array([\n",
    "    [1, 2, 3],\n",
    "    [4, 5, 6]\n",
    "])\n",
    "print(x)"
   ]
  },
  {
   "cell_type": "code",
   "execution_count": 6,
   "id": "f4bf7d98",
   "metadata": {
    "pycharm": {
     "name": "#%%\n"
    }
   },
   "outputs": [
    {
     "name": "stdout",
     "output_type": "stream",
     "text": [
      "[[1 4]\n",
      " [2 5]\n",
      " [3 6]]\n"
     ]
    }
   ],
   "source": [
    "print(x.T)"
   ]
  },
  {
   "cell_type": "code",
   "execution_count": 7,
   "id": "88b321ea",
   "metadata": {
    "pycharm": {
     "name": "#%%\n"
    }
   },
   "outputs": [
    {
     "name": "stdout",
     "output_type": "stream",
     "text": [
      "[4 5 6]\n"
     ]
    }
   ],
   "source": [
    "print(x[1, :])"
   ]
  },
  {
   "cell_type": "code",
   "execution_count": 8,
   "id": "72828ab8",
   "metadata": {
    "pycharm": {
     "name": "#%%\n"
    }
   },
   "outputs": [
    {
     "name": "stdout",
     "output_type": "stream",
     "text": [
      "[3 6]\n"
     ]
    }
   ],
   "source": [
    "print(x[:, 2])"
   ]
  },
  {
   "cell_type": "code",
   "execution_count": 9,
   "id": "2e8de52d",
   "metadata": {
    "pycharm": {
     "name": "#%%\n"
    }
   },
   "outputs": [
    {
     "name": "stdout",
     "output_type": "stream",
     "text": [
      "[[5]]\n"
     ]
    }
   ],
   "source": [
    "print(x[1:, 1:2])"
   ]
  },
  {
   "cell_type": "code",
   "execution_count": 10,
   "id": "4ef8f600",
   "metadata": {
    "pycharm": {
     "name": "#%%\n"
    }
   },
   "outputs": [
    {
     "name": "stdout",
     "output_type": "stream",
     "text": [
      "[[ 2  4  6]\n",
      " [ 8 10 12]]\n"
     ]
    }
   ],
   "source": [
    "print(x * 2)  # Broadcast!"
   ]
  },
  {
   "cell_type": "code",
   "execution_count": 11,
   "id": "ac634cb6",
   "metadata": {
    "pycharm": {
     "name": "#%%\n"
    }
   },
   "outputs": [],
   "source": [
    "y = np.array([\n",
    "    [1, 2],\n",
    "    [3, 4],\n",
    "    [5, 6]\n",
    "])"
   ]
  },
  {
   "cell_type": "code",
   "execution_count": 12,
   "id": "8cf0fd68",
   "metadata": {
    "pycharm": {
     "name": "#%%\n"
    }
   },
   "outputs": [
    {
     "name": "stdout",
     "output_type": "stream",
     "text": [
      "[[22 28]\n",
      " [49 64]]\n"
     ]
    }
   ],
   "source": [
    "print(x @ y)  # Matrix multiplication"
   ]
  },
  {
   "cell_type": "code",
   "execution_count": 13,
   "id": "0657e792",
   "metadata": {
    "pycharm": {
     "name": "#%%\n"
    }
   },
   "outputs": [
    {
     "name": "stdout",
     "output_type": "stream",
     "text": [
      "[[ 1  6 15]\n",
      " [ 8 20 36]]\n"
     ]
    }
   ],
   "source": [
    "print(x * y.T)   # Element-wise multiplication"
   ]
  },
  {
   "cell_type": "code",
   "execution_count": 14,
   "id": "1da2f4ad",
   "metadata": {
    "pycharm": {
     "name": "#%%\n"
    }
   },
   "outputs": [
    {
     "name": "stdout",
     "output_type": "stream",
     "text": [
      "[0. 0.] (2,)\n"
     ]
    }
   ],
   "source": [
    "x = np.zeros((2,))  # Vector.\n",
    "print(x, x.shape)\n"
   ]
  },
  {
   "cell_type": "code",
   "execution_count": 15,
   "id": "ed133b8d",
   "metadata": {
    "pycharm": {
     "name": "#%%\n"
    }
   },
   "outputs": [
    {
     "name": "stdout",
     "output_type": "stream",
     "text": [
      "[[0. 0. 0.]\n",
      " [0. 0. 0.]] (2, 3)\n"
     ]
    }
   ],
   "source": [
    "x = np.zeros((2,3))  # Matrix\n",
    "print(x, x.shape)"
   ]
  },
  {
   "cell_type": "code",
   "execution_count": 16,
   "id": "83cba48f",
   "metadata": {
    "pycharm": {
     "name": "#%%\n"
    }
   },
   "outputs": [
    {
     "name": "stdout",
     "output_type": "stream",
     "text": [
      "[[[0. 0. 0.]\n",
      "  [0. 0. 0.]\n",
      "  [0. 0. 0.]]\n",
      "\n",
      " [[0. 0. 0.]\n",
      "  [0. 0. 0.]\n",
      "  [0. 0. 0.]]] (2, 3, 3)\n"
     ]
    }
   ],
   "source": [
    "x = np.zeros((2,3,3))  # Tensor\n",
    "print(x, x.shape)"
   ]
  },
  {
   "cell_type": "markdown",
   "id": "db75f0ff",
   "metadata": {
    "pycharm": {
     "name": "#%% md\n"
    }
   },
   "source": [
    "### Typing\n",
    "\n",
    "We use type annotations (Python>=3.5) extensively in these labs. They serve mostly as a comment - they are not strictly enforced by the Python interpreter, unlike what compilers of strongly typed languages such as C/C++ enforce.\n",
    "\n",
    "- https://docs.python.org/3/library/typing.html\n",
    "\n",
    "Basic types:\n",
    "- int\n",
    "- float\n",
    "- str\n",
    "\n",
    "Needs to be imported from `typing` package:\n",
    "\n",
    "- List[item_type]\n",
    "- Set[item_type]\n",
    "- Tuple[type_list]\n",
    "- Dict[key_type, value_type]\n",
    "- Iterable[item_type]\n",
    "- Union[type_list]\n",
    "- Callable[[input_types], output_type]\n",
    "\n",
    "Note that in newer versions of Python you can directly use lowercase list/dict/tuple/set types without special imports"
   ]
  },
  {
   "cell_type": "code",
   "execution_count": 17,
   "id": "86369c39",
   "metadata": {
    "pycharm": {
     "name": "#%%\n"
    }
   },
   "outputs": [
    {
     "data": {
      "text/plain": [
       "'abc'"
      ]
     },
     "execution_count": 17,
     "metadata": {},
     "output_type": "execute_result"
    }
   ],
   "source": [
    "from typing import List\n",
    "\n",
    "def concat(xs: List[str]) -> str:\n",
    "    return \"\".join(xs)\n",
    "\n",
    "\n",
    "concat([\"a\", \"b\", \"c\"])"
   ]
  },
  {
   "attachments": {},
   "cell_type": "markdown",
   "id": "3a9a3850",
   "metadata": {
    "pycharm": {
     "name": "#%% md\n"
    }
   },
   "source": [
    "### Overload of in class methods"
   ]
  },
  {
   "cell_type": "code",
   "execution_count": 18,
   "id": "f45a7003",
   "metadata": {
    "pycharm": {
     "name": "#%%\n"
    }
   },
   "outputs": [
    {
     "data": {
      "text/plain": [
       "example 10\n",
       "###\n",
       "epsilon=1e-06\n",
       "gamma=0.01"
      ]
     },
     "execution_count": 18,
     "metadata": {},
     "output_type": "execute_result"
    }
   ],
   "source": [
    "class MyConfig:\n",
    "    def __init__(\n",
    "            self, \n",
    "            my_required_config: str, \n",
    "            defaulted_value: int = 10, \n",
    "            **kwargs: dict\n",
    "    ) -> None:\n",
    "        \"\"\"\n",
    "        This is a constructor.\n",
    "\n",
    "        **kwargs are all remaining unlisted keyword arguments.\n",
    "        \"\"\"\n",
    "        self.my_required_config = my_required_config\n",
    "        self.defaulted_value = defaulted_value\n",
    "        self.other_config = kwargs\n",
    "\n",
    "    def __str__(self) -> str:\n",
    "        \"\"\"\n",
    "        This function is called on str(obj)\n",
    "        \"\"\"\n",
    "        return self.my_required_config\n",
    "\n",
    "    def __hash__(self) -> int:\n",
    "        \"\"\"\n",
    "        This function is called when we need to hash the object\n",
    "        (in dictionaries or sets)\n",
    "        \"\"\"\n",
    "        return hash(self.my_required_config)\n",
    "\n",
    "    def __repr__(self) -> str:\n",
    "        \"\"\"\n",
    "        Magic function that is called for a human-friendly representation,\n",
    "        called in jupyter notebooks on the last object in the cell.\n",
    "        \"\"\"\n",
    "        listed_items = \"\\n\".join(\n",
    "            f\"{key}={value}\" for key, value in self.other_config.items()\n",
    "        )\n",
    "        return f\"{self.my_required_config} {self.defaulted_value}\\n###\\n{listed_items}\"\n",
    "\n",
    "\n",
    "obj = MyConfig(\"example\", epsilon=1e-6, gamma=1e-2)\n",
    "obj"
   ]
  },
  {
   "attachments": {},
   "cell_type": "markdown",
   "id": "140e2931",
   "metadata": {},
   "source": [
    "### Better way to define a config data\n",
    "If you define a config, it is not cool to use `kwards`. In a config should no be unexpected variables"
   ]
  },
  {
   "cell_type": "code",
   "execution_count": null,
   "id": "086e4e23",
   "metadata": {},
   "outputs": [],
   "source": [
    "from dataclasses import dataclass\n",
    "\n",
    "@dataclass\n",
    "class MyConfig:\n",
    "    my_required_config: str\n",
    "    defaulted_value: int\n",
    "    gamma: float\n",
    "\n",
    "    def __str__(self) -> str:\n",
    "        \"\"\"\n",
    "        This function is called on str(obj)\n",
    "        \"\"\"\n",
    "        return self.my_required_config\n",
    "\n",
    "    def __hash__(self) -> int:\n",
    "        \"\"\"\n",
    "        This function is called when we need to hash the object\n",
    "        (in dictionaries or sets)\n",
    "        \"\"\"\n",
    "        return hash(self.my_required_config)\n",
    "\n",
    "\n",
    "obj = MyConfig(\"example\", 10, 1e-2)\n",
    "obj\n",
    "print(obj)"
   ]
  },
  {
   "cell_type": "markdown",
   "id": "7fe42707",
   "metadata": {
    "pycharm": {
     "name": "#%% md\n"
    }
   },
   "source": [
    "### Things to be careful about\n",
    "\n",
    "And more... It is useful to know about some Python \"gotchas\", so you are not so surprised by unexpected behavior.\n",
    "\n",
    "- https://www.geeksforgeeks.org/gotcha)s-in-python/\n",
    "- https://towardsdatascience.com/five-python-gotchas-3073145fe083\n",
    "- https://sopython.com/wiki/Common_Gotchas_In_Python\n",
    "- https://8thlight.com/blog/shibani-mookerjee/2019/05/07/some-common-gotchas-in-python.html\n",
    "- https://stackoverflow.com/questions/1011431/common-pitfalls-in-python"
   ]
  }
 ],
 "metadata": {
  "kernelspec": {
   "display_name": "Python 3",
   "language": "python",
   "name": "python3"
  },
  "language_info": {
   "codemirror_mode": {
    "name": "ipython",
    "version": 3
   },
   "file_extension": ".py",
   "mimetype": "text/x-python",
   "name": "python",
   "nbconvert_exporter": "python",
   "pygments_lexer": "ipython3",
   "version": "3.10.9"
  },
  "vscode": {
   "interpreter": {
    "hash": "e7370f93d1d0cde622a1f8e1c04877d8463912d04d973331ad4851f04de6915a"
   }
  }
 },
 "nbformat": 4,
 "nbformat_minor": 5
}
