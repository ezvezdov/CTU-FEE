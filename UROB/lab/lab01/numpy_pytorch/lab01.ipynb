{
 "cells": [
  {
   "cell_type": "markdown",
   "id": "13a69980",
   "metadata": {},
   "source": [
    "![images.png](images/numpy_logo.png)\n",
    "\n",
    "\n",
    "# Quick Intro into Numpy\n",
    "\n",
    "## What is NumPy?\n",
    "\n",
    "- NumPy is a Python package. It stands for ‘Numerical Python’. It is a library consisting of multidimensional array objects and a collection of routines for processing of array. It also has functions for working in domain of linear algebra, fourier transform, and matrices.\n",
    "\n",
    "- NumPy was created in 2005 by Travis Oliphant. It is an open source project and you can use it freely.\n",
    "\n",
    "\n",
    "## Why Use NumPy?\n",
    "\n",
    "- In Python we have lists that serve the purpose of arrays, but they are slow to process. NumPy aims to provide an array object that is up to 50x faster than traditional Python lists.\n",
    "\n",
    "- The array object in NumPy is called ndarray, it provides a lot of supporting functions that make working with ndarray very easy.\n",
    "\n",
    "- Arrays are very frequently used in data science, where speed and resources are very important.\n",
    "\n",
    "## Why is NumPy Faster Than Lists?\n",
    "\n",
    "- NumPy arrays are stored at one continuous place in memory unlike lists, so processes can access and manipulate them very efficiently. This behavior is called locality of reference in computer science.\n",
    "\n"
   ]
  },
  {
   "cell_type": "code",
   "execution_count": null,
   "id": "36ae4654",
   "metadata": {},
   "outputs": [],
   "source": [
    "# For instalation of numpy, just run following in terminal\n",
    "#!pip3 install numpy"
   ]
  },
  {
   "cell_type": "code",
   "execution_count": 1,
   "id": "2d7ec60e",
   "metadata": {},
   "outputs": [],
   "source": [
    "import numpy as np\n",
    "import time\n",
    "import timeit\n",
    "import copy"
   ]
  },
  {
   "cell_type": "markdown",
   "id": "a7f1801f",
   "metadata": {},
   "source": [
    "### Numpy array"
   ]
  },
  {
   "cell_type": "markdown",
   "id": "b100e761",
   "metadata": {},
   "source": [
    "#### 1D array / vector"
   ]
  },
  {
   "cell_type": "markdown",
   "id": "50e9385a",
   "metadata": {},
   "source": [
    "Numpy vectors does not have any sence of rows or columns."
   ]
  },
  {
   "cell_type": "code",
   "execution_count": null,
   "id": "2a2ddd40",
   "metadata": {},
   "outputs": [],
   "source": [
    "a = np.array([1, 2, 3])\n",
    "print(f\"Shape of the array: {a.shape}\")\n",
    "print(f\"Dimensions of the array: {a.ndim}\")\n",
    "print(f\"Datatype of the array: {a.dtype}\")"
   ]
  },
  {
   "cell_type": "markdown",
   "id": "e79bff56",
   "metadata": {},
   "source": [
    "Absence of meanig of row or columns cause that transposition does not make sence"
   ]
  },
  {
   "cell_type": "code",
   "execution_count": null,
   "id": "c7dc584f",
   "metadata": {},
   "outputs": [],
   "source": [
    "print(f'a = \\n{a}')\n",
    "print(f'a transposed = \\n{np.transpose(a)}')"
   ]
  },
  {
   "cell_type": "markdown",
   "id": "b074dfe5",
   "metadata": {},
   "source": [
    "If you can create row or column \"vector\", you can use function reshape."
   ]
  },
  {
   "cell_type": "code",
   "execution_count": null,
   "id": "42b0775a",
   "metadata": {},
   "outputs": [],
   "source": [
    "print(f'row vector = \\n{a.reshape(1, -1)}')\n",
    "print(f'column vector = \\n{a.reshape(-1, 1)}')"
   ]
  },
  {
   "cell_type": "markdown",
   "id": "18d758ad",
   "metadata": {},
   "source": [
    "#### 2 or more dimensional array"
   ]
  },
  {
   "cell_type": "markdown",
   "id": "124eebcf",
   "metadata": {},
   "source": [
    "This array has defined shape (row, column, etc.)"
   ]
  },
  {
   "cell_type": "code",
   "execution_count": null,
   "id": "2b500025",
   "metadata": {},
   "outputs": [],
   "source": [
    "b = np.array([[1, 2, 3], [4, 5, 6], [7, 8, 9]])\n",
    "print(f\"Shape of the array: {b.shape}\")\n",
    "print(f\"Dimensions of the array: {b.ndim}\")\n",
    "print(f\"Datatype of the array: {b.dtype}\")"
   ]
  },
  {
   "cell_type": "markdown",
   "id": "9399a3af",
   "metadata": {},
   "source": [
    "If you are using 1D numpy array in matrix multiplication you need to be carefull with order of the variables"
   ]
  },
  {
   "cell_type": "code",
   "execution_count": null,
   "id": "bc089d13",
   "metadata": {},
   "outputs": [],
   "source": [
    "a@b"
   ]
  },
  {
   "cell_type": "code",
   "execution_count": null,
   "id": "b93dd94b",
   "metadata": {},
   "outputs": [],
   "source": [
    "b@a"
   ]
  },
  {
   "cell_type": "markdown",
   "id": "03890a68",
   "metadata": {},
   "source": [
    "### Arithmetic operation"
   ]
  },
  {
   "cell_type": "code",
   "execution_count": null,
   "id": "4c4031d7",
   "metadata": {},
   "outputs": [],
   "source": [
    "a = np.array([1,39, 5, 8, 7])"
   ]
  },
  {
   "cell_type": "code",
   "execution_count": null,
   "id": "e3dd0213",
   "metadata": {},
   "outputs": [],
   "source": [
    "b = np.arange(5)\n",
    "\n",
    "b"
   ]
  },
  {
   "cell_type": "code",
   "execution_count": null,
   "id": "bed5019d",
   "metadata": {
    "scrolled": true
   },
   "outputs": [],
   "source": [
    "a - b"
   ]
  },
  {
   "cell_type": "code",
   "execution_count": null,
   "id": "f8c1507b",
   "metadata": {},
   "outputs": [],
   "source": [
    "c = np.concatenate([a, b])\n",
    "\n",
    "c"
   ]
  },
  {
   "cell_type": "code",
   "execution_count": null,
   "id": "994b59d1",
   "metadata": {},
   "outputs": [],
   "source": [
    "c.reshape((2,5))"
   ]
  },
  {
   "cell_type": "markdown",
   "id": "068f3076",
   "metadata": {},
   "source": [
    "### Mask"
   ]
  },
  {
   "cell_type": "code",
   "execution_count": null,
   "id": "14a53ceb",
   "metadata": {},
   "outputs": [],
   "source": [
    "a = np.random.rand(3,2)\n",
    "\n",
    "a"
   ]
  },
  {
   "cell_type": "code",
   "execution_count": null,
   "id": "612e0b37",
   "metadata": {},
   "outputs": [],
   "source": [
    "mask = a > 0.5\n",
    "\n",
    "mask"
   ]
  },
  {
   "cell_type": "code",
   "execution_count": null,
   "id": "5fb1fa93",
   "metadata": {},
   "outputs": [],
   "source": [
    "a[mask]"
   ]
  },
  {
   "cell_type": "code",
   "execution_count": null,
   "id": "f1370c54",
   "metadata": {
    "scrolled": true
   },
   "outputs": [],
   "source": [
    "np.where(a > 0.5, 1., 0.)"
   ]
  },
  {
   "cell_type": "markdown",
   "id": "d4780130",
   "metadata": {},
   "source": [
    "### Fill your solution\n",
    "\n",
    "Create 1D array which contains:\n",
    "\n",
    "1. First 5 elements are random numbers\n",
    "2. 6-10th element is equal to one\n",
    "3. Last five elements are ascending from 8, respectively 8, 9, 10, 11, 12\n",
    "\n",
    "Print this array in shape with 3 columns."
   ]
  },
  {
   "cell_type": "code",
   "execution_count": null,
   "id": "b264f9d0",
   "metadata": {},
   "outputs": [],
   "source": [
    "# fill your solution\n"
   ]
  },
  {
   "cell_type": "markdown",
   "id": "d0e0c912",
   "metadata": {},
   "source": [
    "### Matrix multiplication - Linear Algebra"
   ]
  },
  {
   "cell_type": "code",
   "execution_count": null,
   "id": "cbfb768e",
   "metadata": {},
   "outputs": [],
   "source": [
    "A = np.array([[1, 1],\n",
    "              [0, 1]])\n",
    "B = np.array([[2, 0],\n",
    "              [3, 4]])"
   ]
  },
  {
   "cell_type": "markdown",
   "id": "52f55e42",
   "metadata": {},
   "source": [
    "Elementwise product"
   ]
  },
  {
   "cell_type": "code",
   "execution_count": null,
   "id": "b585233d",
   "metadata": {},
   "outputs": [],
   "source": [
    "A * B"
   ]
  },
  {
   "cell_type": "markdown",
   "id": "ab1cf454",
   "metadata": {},
   "source": [
    "Matrix product"
   ]
  },
  {
   "cell_type": "code",
   "execution_count": null,
   "id": "1d9c32ac",
   "metadata": {},
   "outputs": [],
   "source": [
    "A @ B"
   ]
  },
  {
   "cell_type": "markdown",
   "id": "2a6bac9d",
   "metadata": {},
   "source": [
    "Another matrix product"
   ]
  },
  {
   "cell_type": "code",
   "execution_count": null,
   "id": "770c165c",
   "metadata": {},
   "outputs": [],
   "source": [
    "A.dot(B)"
   ]
  },
  {
   "cell_type": "markdown",
   "id": "f9429498",
   "metadata": {},
   "source": [
    "Matrix inverse"
   ]
  },
  {
   "cell_type": "code",
   "execution_count": null,
   "id": "fa82c1ef",
   "metadata": {},
   "outputs": [],
   "source": [
    "np.linalg.inv(A)"
   ]
  },
  {
   "cell_type": "markdown",
   "id": "835357f1",
   "metadata": {},
   "source": [
    "Matrix rank"
   ]
  },
  {
   "cell_type": "code",
   "execution_count": null,
   "id": "4bd2298c",
   "metadata": {},
   "outputs": [],
   "source": [
    "np.linalg.matrix_rank(A)"
   ]
  },
  {
   "cell_type": "markdown",
   "id": "d6c1dce4",
   "metadata": {},
   "source": [
    "Other usefull things:\n",
    "\n",
    "- Cholesky decomposition - numpy.linalg.cholesky\n",
    "- QR decomposition - numpy.linalg.qr\n",
    "- Singular value decomposition - numpy.linalg.svd\n",
    "- Eigen values - numpy.linalg.eig\n",
    "- Norn of matrix/array - numpy.linalg.norm\n",
    "- Determinant - numpy.linalg.det\n",
    "- trace of the matrix - numpy.trace\n",
    "- ..."
   ]
  },
  {
   "cell_type": "markdown",
   "id": "6989b802",
   "metadata": {},
   "source": [
    "### Speed of the Numpy"
   ]
  },
  {
   "cell_type": "markdown",
   "id": "3d8e64b9",
   "metadata": {},
   "source": [
    "Example of add scalar to each element in the array:"
   ]
  },
  {
   "cell_type": "code",
   "execution_count": null,
   "id": "1b2e32d6",
   "metadata": {},
   "outputs": [],
   "source": [
    "py_list = [i for i in range(1000000)]\n",
    "\n",
    "def add_scalar(py_list, scalar):\n",
    "    for idx in range(len(py_list)):\n",
    "        py_list[idx] += scalar\n",
    "    return py_list\n",
    "\n",
    "%timeit add_scalar(py_list, scalar=10)"
   ]
  },
  {
   "cell_type": "code",
   "execution_count": null,
   "id": "3ef7d78e",
   "metadata": {},
   "outputs": [],
   "source": [
    "np_list = np.arange(1000000)\n",
    "\n",
    "def add_scalar_numpy(np_list, scalar):\n",
    "    np_list += scalar\n",
    "    return np_list\n",
    "\n",
    "%timeit add_scalar_numpy(np_list, scalar=10)"
   ]
  },
  {
   "cell_type": "markdown",
   "id": "d55844ef",
   "metadata": {},
   "source": [
    "### 3D Trasnformations\n",
    "Transformation of 3D points are done throw homogeneous coordinates. Homogeneous coordinates are created by adding 1 into $4^{th}$ dimension of 3D point.\n",
    "$$p = \\begin{bmatrix} x\\\\ y\\\\z \\end{bmatrix}\\Rightarrow  \\underline{p}=\\begin{bmatrix} x\\\\ y\\\\z\\\\1 \\end{bmatrix}$$\n",
    "\n",
    "\n",
    "Transformation matrix\n",
    "$$ T = \\begin{bmatrix} R & t \\\\ 0 & 1 \\end{bmatrix},$$is created be rotation matrix $R$ and translation vector $t$.\n",
    "\n",
    "Transformation is then done by multiplying points in homogeneous coordinates with transformation matrix.\n",
    "$$ \\underline{p}' = T\\underline{p} $$\n",
    "\n",
    "Transformed points then must be devided by its $4^{th}$ element to ensure that $4^{th}$ element will be equal to 1."
   ]
  },
  {
   "cell_type": "markdown",
   "id": "f60b2ed9",
   "metadata": {},
   "source": [
    "#### Summary"
   ]
  },
  {
   "cell_type": "markdown",
   "id": "48a9bf18",
   "metadata": {},
   "source": [
    "1. transform point to homogeneous coordinates $p = \\begin{bmatrix} x\\\\ y\\\\z \\end{bmatrix}\\Rightarrow  \\underline{p}=\\begin{bmatrix} x\\\\ y\\\\z\\\\1 \\end{bmatrix}$\n",
    "2. multiply homogeneous point by transformation matrix $ \\underline{p}' = T\\underline{p} $\n",
    "3. \"normalize\" point by its $4^{th}$ element $ \\underline{p}' = \\frac{\\underline{p'}}{\\underline{p'}[3]}$"
   ]
  },
  {
   "cell_type": "code",
   "execution_count": null,
   "id": "8ec4b1d2",
   "metadata": {},
   "outputs": [],
   "source": [
    "from scipy.spatial.transform import Rotation as R\n",
    "\n",
    "points = np.random.rand(100,3)\n",
    "\n",
    "Rot = R.from_euler('z', 90, degrees=True).as_matrix()\n",
    "t = np.random.rand(3,1)\n",
    "\n",
    "\n",
    "transform_matrix = np.block([[Rot, t], [np.array([0, 0, 0]), np.array([1])]])\n",
    "print(np.array_str(transform_matrix, precision=2, suppress_small=True))\n",
    "print(points)"
   ]
  },
  {
   "cell_type": "code",
   "execution_count": null,
   "id": "470df6fe",
   "metadata": {
    "scrolled": false
   },
   "outputs": [],
   "source": [
    "def transform_points(points, transform_matrix):\n",
    "    for i in range(len(points)):\n",
    "        point = np.array([[points[i][0]], [points[i][1]], [points[i][2]], [1]])\n",
    "        point = (transform_matrix @ point)\n",
    "        point = point / point[3]\n",
    "        points[i] = (point.T)[0, :3]\n",
    "    return points\n",
    "\n",
    "%timeit transform_points(copy.deepcopy(points), transform_matrix)\n",
    "print(f'after function {points}')"
   ]
  },
  {
   "cell_type": "code",
   "execution_count": null,
   "id": "56c163f0",
   "metadata": {},
   "outputs": [],
   "source": [
    "def transform_points_fast(points, transform_matrix):\n",
    "    # fill your solution\n",
    "\n",
    "%timeit transform_points_fast(copy.deepcopy(points), transform_matrix)"
   ]
  },
  {
   "cell_type": "markdown",
   "id": "a71766c7",
   "metadata": {},
   "source": [
    "## For more info about Numpy visit https://numpy.org"
   ]
  },
  {
   "cell_type": "markdown",
   "id": "63a33494",
   "metadata": {},
   "source": [
    "![image.png](images/pytorch.jpeg)"
   ]
  },
  {
   "cell_type": "markdown",
   "id": "adfa1157",
   "metadata": {},
   "source": [
    "PyTorch is an open source machine learning framework based on the Torch library, used for applications such as computer vision and natural language processing, primarily developed by Meta AI. It is free and open-source software released under the Modified BSD license. Although the Python interface is more polished and the primary focus of development, PyTorch also has a C++ interface.\n",
    "\n",
    "A number of pieces of deep learning software are built on top of PyTorch, including Tesla Autopilot, Uber's Pyro and many more .. "
   ]
  },
  {
   "cell_type": "markdown",
   "id": "1d9536a3",
   "metadata": {},
   "source": [
    "### Instalation  -> https://pytorch.org/get-started/locally/"
   ]
  },
  {
   "cell_type": "markdown",
   "id": "8f78ce2e",
   "metadata": {},
   "source": [
    "## Tensors\n",
    "Directly from data"
   ]
  },
  {
   "cell_type": "code",
   "execution_count": 1,
   "id": "7821b2fe",
   "metadata": {},
   "outputs": [],
   "source": [
    "import torch\n",
    "\n",
    "data = [[1, 2],[3, 4]]\n",
    "x_data = torch.tensor(data)"
   ]
  },
  {
   "cell_type": "markdown",
   "id": "48bf1583",
   "metadata": {},
   "source": [
    "From numpy array"
   ]
  },
  {
   "cell_type": "code",
   "execution_count": null,
   "id": "80704542",
   "metadata": {},
   "outputs": [],
   "source": [
    "np_array = np.array(data)\n",
    "x_np = torch.from_numpy(np_array)\n",
    "x_np"
   ]
  },
  {
   "cell_type": "markdown",
   "id": "7eafdb03",
   "metadata": {},
   "source": [
    "Tensor back to numpy"
   ]
  },
  {
   "cell_type": "code",
   "execution_count": null,
   "id": "a98eafde",
   "metadata": {},
   "outputs": [],
   "source": [
    "x_np.numpy()"
   ]
  },
  {
   "cell_type": "markdown",
   "id": "b1aac426",
   "metadata": {},
   "source": [
    "From another tensors"
   ]
  },
  {
   "cell_type": "code",
   "execution_count": null,
   "id": "cdb40e38",
   "metadata": {},
   "outputs": [],
   "source": [
    "x_ones = torch.ones_like(x_data) # retains the properties of x_data\n",
    "print(f\"Ones Tensor: \\n {x_ones} \\n\")\n",
    "\n",
    "x_rand = torch.rand_like(x_data, dtype=torch.float) # overrides the datatype of x_data\n",
    "print(f\"Random Tensor: \\n {x_rand} \\n\")"
   ]
  },
  {
   "cell_type": "markdown",
   "id": "7f830b0d",
   "metadata": {},
   "source": [
    "### Attributes of a Tensor"
   ]
  },
  {
   "cell_type": "code",
   "execution_count": null,
   "id": "1a2b291a",
   "metadata": {},
   "outputs": [],
   "source": [
    "print(f\"Shape of tensor: {x_data.shape}\")\n",
    "print(f\"Datatype of tensor: {x_data.dtype}\")\n",
    "print(f\"Device tensor is stored on: {x_data.device}\")"
   ]
  },
  {
   "cell_type": "markdown",
   "id": "80074175",
   "metadata": {},
   "source": [
    "We can move our tensor to the GPU if available"
   ]
  },
  {
   "cell_type": "code",
   "execution_count": null,
   "id": "e4617c92",
   "metadata": {},
   "outputs": [],
   "source": [
    "if torch.cuda.is_available():\n",
    "    tensor = x_ones.to(\"cuda\")\n",
    "else:\n",
    "    print(\"cuda is not available\")"
   ]
  },
  {
   "cell_type": "markdown",
   "id": "bf504e45",
   "metadata": {},
   "source": [
    "Indexing is like in Numpy"
   ]
  },
  {
   "cell_type": "code",
   "execution_count": null,
   "id": "dc13eb5f",
   "metadata": {},
   "outputs": [],
   "source": [
    "tensor = torch.ones(4, 4)"
   ]
  },
  {
   "cell_type": "code",
   "execution_count": null,
   "id": "6bba1872",
   "metadata": {},
   "outputs": [],
   "source": [
    "print(f\"First row: {tensor[0]}\")\n",
    "print(f\"First column: {tensor[:, 0]}\")\n",
    "print(f\"Last column: {tensor[..., -1]}\")"
   ]
  },
  {
   "cell_type": "code",
   "execution_count": null,
   "id": "3abf5099",
   "metadata": {
    "scrolled": true
   },
   "outputs": [],
   "source": [
    "tensor[:,1] = 0\n",
    "print(tensor)"
   ]
  },
  {
   "cell_type": "markdown",
   "id": "e3d0f680",
   "metadata": {},
   "source": [
    "Joining tensors"
   ]
  },
  {
   "cell_type": "code",
   "execution_count": null,
   "id": "82551421",
   "metadata": {},
   "outputs": [],
   "source": [
    "t1 = torch.cat([tensor, tensor, tensor], dim=0)\n",
    "print(t1)"
   ]
  },
  {
   "cell_type": "code",
   "execution_count": null,
   "id": "24eed125",
   "metadata": {},
   "outputs": [],
   "source": [
    "t1 = torch.cat([tensor, tensor, tensor], dim=1)\n",
    "print(t1)"
   ]
  },
  {
   "cell_type": "markdown",
   "id": "36973954",
   "metadata": {},
   "source": [
    "### Arithmetic operations"
   ]
  },
  {
   "cell_type": "markdown",
   "id": "59af9103",
   "metadata": {},
   "source": [
    "Matrix multiplication"
   ]
  },
  {
   "cell_type": "code",
   "execution_count": null,
   "id": "e2db2ab9",
   "metadata": {},
   "outputs": [],
   "source": [
    "# This computes the matrix multiplication between two tensors. y1, y2, y3 will have the same value\n",
    "y1 = tensor @ tensor.T\n",
    "y2 = tensor.matmul(tensor.T)\n",
    "\n",
    "y3 = torch.rand_like(y1)\n",
    "torch.matmul(tensor, tensor.T, out=y3)"
   ]
  },
  {
   "cell_type": "markdown",
   "id": "c468450e",
   "metadata": {},
   "source": [
    "Elementwise product"
   ]
  },
  {
   "cell_type": "code",
   "execution_count": null,
   "id": "e2b15e80",
   "metadata": {},
   "outputs": [],
   "source": [
    "# This computes the element-wise product. z1, z2, z3 will have the same value\n",
    "z1 = tensor * tensor\n",
    "z2 = tensor.mul(tensor)\n",
    "\n",
    "z3 = torch.rand_like(tensor)\n",
    "torch.mul(tensor, tensor, out=z3)"
   ]
  },
  {
   "cell_type": "markdown",
   "id": "452e6200",
   "metadata": {},
   "source": [
    "## Automatic differentiation module in PyTorch – Autograd"
   ]
  },
  {
   "cell_type": "markdown",
   "id": "cf684d98",
   "metadata": {},
   "source": [
    "Create the initial value and turn on the param: *requires_grad=True*"
   ]
  },
  {
   "cell_type": "code",
   "execution_count": null,
   "id": "1c8d7950",
   "metadata": {},
   "outputs": [],
   "source": [
    "x = torch.tensor(3., requires_grad=True)"
   ]
  },
  {
   "cell_type": "markdown",
   "id": "b15b7799",
   "metadata": {},
   "source": [
    "Turn off the gradient computation"
   ]
  },
  {
   "cell_type": "code",
   "execution_count": null,
   "id": "165b627d",
   "metadata": {},
   "outputs": [],
   "source": [
    "x.requires_grad_(False)"
   ]
  },
  {
   "cell_type": "markdown",
   "id": "1ef96aed",
   "metadata": {},
   "source": [
    "Another way"
   ]
  },
  {
   "cell_type": "code",
   "execution_count": null,
   "id": "780d579f",
   "metadata": {},
   "outputs": [],
   "source": [
    "x.detach()"
   ]
  },
  {
   "cell_type": "markdown",
   "id": "7361dcf2",
   "metadata": {},
   "source": [
    "## Gradient accumulation effect\n",
    "\n",
    "\n",
    "Nonlinear function: \n",
    "\n",
    "![image.png](images/autograd.png)"
   ]
  },
  {
   "cell_type": "markdown",
   "id": "e4238574",
   "metadata": {},
   "source": [
    "### Forward Pass\n",
    "Example for x = 4:\n",
    "\n",
    "$$y = 2 + 3 \\cdot x^2 + 7 \\cdot x $$\n",
    "$$y = 2 + 3\\cdot 4^2  + 7 \\cdot 4 $$\n",
    "$$y = 78$$\n"
   ]
  },
  {
   "cell_type": "code",
   "execution_count": null,
   "id": "db96adc2",
   "metadata": {},
   "outputs": [],
   "source": [
    "x = torch.tensor(4, requires_grad=True, dtype=torch.float32) # turn on grad computation\n",
    "\n",
    "y = 2 + (x**2)*3 + 7*x\n",
    "y"
   ]
  },
  {
   "cell_type": "markdown",
   "id": "496e6f7f",
   "metadata": {},
   "source": [
    "### Backward pass\n",
    "\n",
    "$$ \\frac{\\partial y}{\\partial x} = \\frac{\\partial( 2 +3 \\cdot  x^2  + 7 \\cdot x)}{\\partial x}$$\n",
    "\n",
    "$$ \\frac{\\partial y}{\\partial x} =  6 \\cdot x \\cdot  + 7 $$\n",
    "\n",
    "$$ \\frac{\\partial y}{\\partial x} =  31 $$"
   ]
  },
  {
   "cell_type": "code",
   "execution_count": null,
   "id": "f1a2f44c",
   "metadata": {
    "scrolled": false
   },
   "outputs": [],
   "source": [
    "y.backward() # calculate backward pass\n",
    "print(x.grad)"
   ]
  },
  {
   "cell_type": "markdown",
   "id": "8a48f727",
   "metadata": {},
   "source": [
    "## Gradient accumulation effect"
   ]
  },
  {
   "cell_type": "code",
   "execution_count": null,
   "id": "e3c71023",
   "metadata": {},
   "outputs": [],
   "source": [
    "x = torch.tensor(4., requires_grad=True)\n",
    "\n",
    "for epoch in range(3):\n",
    "    y = 2 + (x**2)*3 + 7*x\n",
    "    y.backward()\n",
    "\n",
    "    print(x.grad)"
   ]
  },
  {
   "cell_type": "markdown",
   "id": "020341f4",
   "metadata": {},
   "source": [
    "It is beneficial to zero out gradients when building a neural network. This is because by default, gradients are accumulated in buffers (i.e, not overwritten) whenever .backward() is called."
   ]
  },
  {
   "cell_type": "code",
   "execution_count": null,
   "id": "98af81e9",
   "metadata": {},
   "outputs": [],
   "source": [
    "x = torch.tensor(4., requires_grad=True)\n",
    "\n",
    "for epoch in range(3):\n",
    "    y = 2 + (x**2)*3 + 7*x\n",
    "    y.backward()\n",
    "\n",
    "    print(x.grad)\n",
    "    x.grad.zero_() "
   ]
  },
  {
   "cell_type": "markdown",
   "id": "2a43d47c",
   "metadata": {},
   "source": [
    "## Minimalization"
   ]
  },
  {
   "cell_type": "code",
   "execution_count": null,
   "id": "5b1b0fd7",
   "metadata": {},
   "outputs": [],
   "source": [
    "import matplotlib.pyplot as plt\n",
    "\n",
    "x = torch.tensor(4, requires_grad=True, dtype=torch.float32)\n",
    "x_values = np.zeros(100)\n",
    "y_values = np.zeros(100)\n",
    "epochs = np.arange(100)\n",
    "for i in range(100):\n",
    "    y = 2 + (x**2)*3 + 7*x\n",
    "    y.backward()\n",
    "    with torch.no_grad():\n",
    "        x -= x.grad * 0.1\n",
    "        x.grad.zero_()\n",
    "    x_values[i] = x.detach().cpu().numpy()\n",
    "    y_values[i] = y.detach().cpu().numpy()\n",
    "\n",
    "print(f'Minimum value of y is {y_values[-1]} with value of x = {x_values[-2]}')\n",
    "\n",
    "plt.plot(epochs, x_values, label='x values')\n",
    "plt.plot(epochs, y_values, label='y values')\n",
    "plt.legend()\n",
    "plt.show()"
   ]
  }
 ],
 "metadata": {
  "kernelspec": {
   "display_name": "Python 3 (ipykernel)",
   "language": "python",
   "name": "python3"
  },
  "language_info": {
   "codemirror_mode": {
    "name": "ipython",
    "version": 3
   },
   "file_extension": ".py",
   "mimetype": "text/x-python",
   "name": "python",
   "nbconvert_exporter": "python",
   "pygments_lexer": "ipython3",
   "version": "3.11.5"
  }
 },
 "nbformat": 4,
 "nbformat_minor": 5
}
